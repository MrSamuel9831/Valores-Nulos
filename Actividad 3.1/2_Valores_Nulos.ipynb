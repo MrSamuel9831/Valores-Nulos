{
  "cells": [
    {
      "cell_type": "markdown",
      "metadata": {
        "colab_type": "text",
        "id": "view-in-github"
      },
      "source": [
        "<a href=\"https://colab.research.google.com/github/freddy-7/TI3002C/blob/main/2_Valores_Nulos.ipynb\" target=\"_parent\"><img src=\"https://colab.research.google.com/assets/colab-badge.svg\" alt=\"Open In Colab\"/></a>"
      ]
    },
    {
      "cell_type": "code",
      "execution_count": null,
      "metadata": {
        "id": "nVmUdMye-2LC"
      },
      "outputs": [],
      "source": [
        "#Importamos las librerias pandas, numpy y matplotlib respectivamente\n",
        "import pandas as pd\n",
        "import numpy as np\n",
        "import matplotlib.pyplot as plt"
      ]
    },
    {
      "cell_type": "markdown",
      "metadata": {
        "id": "ppkIN7YD9OCO"
      },
      "source": [
        "**VALORES NULOS**"
      ]
    },
    {
      "cell_type": "code",
      "execution_count": null,
      "metadata": {
        "id": "SJqO09PDA0lS"
      },
      "outputs": [],
      "source": [
        "#Cargar archivo csv desde COLAB\n",
        "#from google.colab import files\n",
        "#files.upload()"
      ]
    },
    {
      "cell_type": "code",
      "execution_count": 37,
      "metadata": {
        "id": "ju4zTK1qA7Zb"
      },
      "outputs": [
        {
          "data": {
            "text/html": [
              "<div>\n",
              "<style scoped>\n",
              "    .dataframe tbody tr th:only-of-type {\n",
              "        vertical-align: middle;\n",
              "    }\n",
              "\n",
              "    .dataframe tbody tr th {\n",
              "        vertical-align: top;\n",
              "    }\n",
              "\n",
              "    .dataframe thead th {\n",
              "        text-align: right;\n",
              "    }\n",
              "</style>\n",
              "<table border=\"1\" class=\"dataframe\">\n",
              "  <thead>\n",
              "    <tr style=\"text-align: right;\">\n",
              "      <th></th>\n",
              "      <th>Unnamed: 0</th>\n",
              "      <th>indice_tiempo</th>\n",
              "      <th>ventas_precios_corrientes</th>\n",
              "      <th>ventas_precios_constantes</th>\n",
              "      <th>ventas_totales_canal_venta</th>\n",
              "      <th>salon_ventas</th>\n",
              "      <th>canales_on_line</th>\n",
              "      <th>ventas_totales_medio_pago</th>\n",
              "      <th>efectivo</th>\n",
              "      <th>tarjetas_debito</th>\n",
              "      <th>...</th>\n",
              "      <th>almacen</th>\n",
              "      <th>panaderia</th>\n",
              "      <th>lacteos</th>\n",
              "      <th>carnes</th>\n",
              "      <th>verduleria_fruteria</th>\n",
              "      <th>alimentos_preparados_rotiseria</th>\n",
              "      <th>articulos_limpieza_perfumeria</th>\n",
              "      <th>indumentaria_calzado_textiles_hogar</th>\n",
              "      <th>electronicos_articulos_hogar</th>\n",
              "      <th>otros</th>\n",
              "    </tr>\n",
              "  </thead>\n",
              "  <tbody>\n",
              "    <tr>\n",
              "      <th>0</th>\n",
              "      <td>0</td>\n",
              "      <td>01/01/2017</td>\n",
              "      <td>27858.9</td>\n",
              "      <td>27477.3</td>\n",
              "      <td>27858872.08</td>\n",
              "      <td>27591730.13</td>\n",
              "      <td>267141.956</td>\n",
              "      <td>27858872.08</td>\n",
              "      <td>1.023010e+07</td>\n",
              "      <td>6864575.384</td>\n",
              "      <td>...</td>\n",
              "      <td>6705475.318</td>\n",
              "      <td>9.459063e+05</td>\n",
              "      <td>2880656.169</td>\n",
              "      <td>2606192.942</td>\n",
              "      <td>1.050314e+06</td>\n",
              "      <td>340777.3882</td>\n",
              "      <td>4397543.671</td>\n",
              "      <td>772371.8476</td>\n",
              "      <td>1838507.096</td>\n",
              "      <td>2806660.309</td>\n",
              "    </tr>\n",
              "    <tr>\n",
              "      <th>1</th>\n",
              "      <td>1</td>\n",
              "      <td>01/02/2017</td>\n",
              "      <td>25994.2</td>\n",
              "      <td>25223.4</td>\n",
              "      <td>25994200.17</td>\n",
              "      <td>25749179.40</td>\n",
              "      <td>245020.769</td>\n",
              "      <td>25994200.17</td>\n",
              "      <td>9.719067e+06</td>\n",
              "      <td>6438494.011</td>\n",
              "      <td>...</td>\n",
              "      <td>6576624.803</td>\n",
              "      <td>9.256186e+05</td>\n",
              "      <td>2855639.900</td>\n",
              "      <td>2600083.591</td>\n",
              "      <td>1.026167e+06</td>\n",
              "      <td>328288.6951</td>\n",
              "      <td>4053283.771</td>\n",
              "      <td>672290.5165</td>\n",
              "      <td>1257661.903</td>\n",
              "      <td>2354084.901</td>\n",
              "    </tr>\n",
              "    <tr>\n",
              "      <th>2</th>\n",
              "      <td>2</td>\n",
              "      <td>01/03/2017</td>\n",
              "      <td>27780.0</td>\n",
              "      <td>26334.3</td>\n",
              "      <td>27780006.52</td>\n",
              "      <td>27472228.72</td>\n",
              "      <td>307777.804</td>\n",
              "      <td>27780006.52</td>\n",
              "      <td>1.024444e+07</td>\n",
              "      <td>6908522.962</td>\n",
              "      <td>...</td>\n",
              "      <td>7437264.174</td>\n",
              "      <td>1.016148e+06</td>\n",
              "      <td>3188259.169</td>\n",
              "      <td>2824976.726</td>\n",
              "      <td>1.075526e+06</td>\n",
              "      <td>353335.1548</td>\n",
              "      <td>4354197.611</td>\n",
              "      <td>667696.6653</td>\n",
              "      <td>1305674.917</td>\n",
              "      <td>2266189.277</td>\n",
              "    </tr>\n",
              "    <tr>\n",
              "      <th>3</th>\n",
              "      <td>3</td>\n",
              "      <td>01/04/2017</td>\n",
              "      <td>29134.3</td>\n",
              "      <td>27045.9</td>\n",
              "      <td>29134272.22</td>\n",
              "      <td>28827479.49</td>\n",
              "      <td>306792.733</td>\n",
              "      <td>29134272.22</td>\n",
              "      <td>1.031263e+07</td>\n",
              "      <td>7454251.800</td>\n",
              "      <td>...</td>\n",
              "      <td>8211244.093</td>\n",
              "      <td>1.132396e+06</td>\n",
              "      <td>3257140.159</td>\n",
              "      <td>3006158.760</td>\n",
              "      <td>1.037213e+06</td>\n",
              "      <td>359694.4537</td>\n",
              "      <td>4355706.646</td>\n",
              "      <td>838948.2458</td>\n",
              "      <td>1535726.345</td>\n",
              "      <td>2146755.887</td>\n",
              "    </tr>\n",
              "    <tr>\n",
              "      <th>4</th>\n",
              "      <td>4</td>\n",
              "      <td>01/05/2017</td>\n",
              "      <td>27969.0</td>\n",
              "      <td>25631.9</td>\n",
              "      <td>27969004.68</td>\n",
              "      <td>27569311.41</td>\n",
              "      <td>399693.262</td>\n",
              "      <td>27969004.68</td>\n",
              "      <td>1.014761e+07</td>\n",
              "      <td>6735747.319</td>\n",
              "      <td>...</td>\n",
              "      <td>7651058.084</td>\n",
              "      <td>1.033082e+06</td>\n",
              "      <td>3232635.767</td>\n",
              "      <td>2799142.123</td>\n",
              "      <td>9.826512e+05</td>\n",
              "      <td>336568.0085</td>\n",
              "      <td>4206101.605</td>\n",
              "      <td>915895.1498</td>\n",
              "      <td>1824462.036</td>\n",
              "      <td>2117971.483</td>\n",
              "    </tr>\n",
              "  </tbody>\n",
              "</table>\n",
              "<p>5 rows × 25 columns</p>\n",
              "</div>"
            ],
            "text/plain": [
              "   Unnamed: 0 indice_tiempo  ventas_precios_corrientes  \\\n",
              "0           0    01/01/2017                    27858.9   \n",
              "1           1    01/02/2017                    25994.2   \n",
              "2           2    01/03/2017                    27780.0   \n",
              "3           3    01/04/2017                    29134.3   \n",
              "4           4    01/05/2017                    27969.0   \n",
              "\n",
              "   ventas_precios_constantes  ventas_totales_canal_venta  salon_ventas  \\\n",
              "0                    27477.3                 27858872.08   27591730.13   \n",
              "1                    25223.4                 25994200.17   25749179.40   \n",
              "2                    26334.3                 27780006.52   27472228.72   \n",
              "3                    27045.9                 29134272.22   28827479.49   \n",
              "4                    25631.9                 27969004.68   27569311.41   \n",
              "\n",
              "   canales_on_line  ventas_totales_medio_pago      efectivo  tarjetas_debito  \\\n",
              "0       267141.956                27858872.08  1.023010e+07      6864575.384   \n",
              "1       245020.769                25994200.17  9.719067e+06      6438494.011   \n",
              "2       307777.804                27780006.52  1.024444e+07      6908522.962   \n",
              "3       306792.733                29134272.22  1.031263e+07      7454251.800   \n",
              "4       399693.262                27969004.68  1.014761e+07      6735747.319   \n",
              "\n",
              "   ...      almacen     panaderia      lacteos       carnes  \\\n",
              "0  ...  6705475.318  9.459063e+05  2880656.169  2606192.942   \n",
              "1  ...  6576624.803  9.256186e+05  2855639.900  2600083.591   \n",
              "2  ...  7437264.174  1.016148e+06  3188259.169  2824976.726   \n",
              "3  ...  8211244.093  1.132396e+06  3257140.159  3006158.760   \n",
              "4  ...  7651058.084  1.033082e+06  3232635.767  2799142.123   \n",
              "\n",
              "   verduleria_fruteria  alimentos_preparados_rotiseria  \\\n",
              "0         1.050314e+06                     340777.3882   \n",
              "1         1.026167e+06                     328288.6951   \n",
              "2         1.075526e+06                     353335.1548   \n",
              "3         1.037213e+06                     359694.4537   \n",
              "4         9.826512e+05                     336568.0085   \n",
              "\n",
              "   articulos_limpieza_perfumeria  indumentaria_calzado_textiles_hogar  \\\n",
              "0                    4397543.671                          772371.8476   \n",
              "1                    4053283.771                          672290.5165   \n",
              "2                    4354197.611                          667696.6653   \n",
              "3                    4355706.646                          838948.2458   \n",
              "4                    4206101.605                          915895.1498   \n",
              "\n",
              "   electronicos_articulos_hogar        otros  \n",
              "0                   1838507.096  2806660.309  \n",
              "1                   1257661.903  2354084.901  \n",
              "2                   1305674.917  2266189.277  \n",
              "3                   1535726.345  2146755.887  \n",
              "4                   1824462.036  2117971.483  \n",
              "\n",
              "[5 rows x 25 columns]"
            ]
          },
          "execution_count": 37,
          "metadata": {},
          "output_type": "execute_result"
        }
      ],
      "source": [
        "#Carga desde un archivo .csv sin indice\n",
        "data = pd.read_csv('inmuebles_sin_nulos.csv')\n",
        "data.head(5)"
      ]
    },
    {
      "cell_type": "code",
      "execution_count": null,
      "metadata": {
        "id": "X10o4y31A_pn"
      },
      "outputs": [],
      "source": [
        "#Eliminar primera fila o filas innecesarias\n",
        "data1= pd.read_csv('Ventas_totales.csv', skiprows=1)\n",
        "data1"
      ]
    },
    {
      "cell_type": "code",
      "execution_count": null,
      "metadata": {
        "id": "R6VgHZUJBEWf"
      },
      "outputs": [],
      "source": [
        "#Eliminar columnas innecesarias\n",
        "#axis = 1 para columnas\n",
        "#axis = 0 para filas\n",
        "data2= data1.drop(['0','Referencia'], axis=1)\n",
        "data2"
      ]
    },
    {
      "cell_type": "code",
      "execution_count": null,
      "metadata": {
        "id": "0-dWeOUHBIkq"
      },
      "outputs": [],
      "source": [
        "#Identificar valores nulos por columna\n",
        "valores_nulos=data.isnull().sum()\n",
        "valores_nulos"
      ]
    },
    {
      "cell_type": "code",
      "execution_count": null,
      "metadata": {
        "id": "CY6wFkDvYtrD"
      },
      "outputs": [],
      "source": [
        "#Identificar valores nulos por dataframe\n",
        "valores_nulos=data2.isnull().sum().sum()\n",
        "valores_nulos"
      ]
    },
    {
      "cell_type": "markdown",
      "metadata": {
        "id": "XncKYOfkBl1y"
      },
      "source": [
        "**Métodos de Sustitución de Valores Nulos**"
      ]
    },
    {
      "cell_type": "code",
      "execution_count": null,
      "metadata": {
        "id": "zMJieQa6Bntp"
      },
      "outputs": [],
      "source": [
        "#Realizamos una copia del dataframe\n",
        "data3=data2.copy()"
      ]
    },
    {
      "cell_type": "code",
      "execution_count": null,
      "metadata": {
        "id": "sabbsa7jBp_8"
      },
      "outputs": [],
      "source": [
        "#Primer método de sustitución de valores nulos\n",
        "#Sustituir valores nulos con promedio o media\n",
        "data[\"lacteos\"]=data[\"lacteos\"].fillna(round(data[\"lacteos\"].mean(),1))"
      ]
    },
    {
      "cell_type": "code",
      "execution_count": 38,
      "metadata": {
        "id": "ABDcOFMCByzN"
      },
      "outputs": [
        {
          "data": {
            "text/plain": [
              "Unnamed: 0                             0\n",
              "indice_tiempo                          0\n",
              "ventas_precios_corrientes              0\n",
              "ventas_precios_constantes              0\n",
              "ventas_totales_canal_venta             0\n",
              "salon_ventas                           0\n",
              "canales_on_line                        0\n",
              "ventas_totales_medio_pago              0\n",
              "efectivo                               0\n",
              "tarjetas_debito                        0\n",
              "tarjetas_credito                       0\n",
              "otros_medios                           0\n",
              "ventas_totales_grupo_articulos         0\n",
              "subtotal_ventas_alimentos_bebidas      0\n",
              "bebidas                                0\n",
              "almacen                                0\n",
              "panaderia                              0\n",
              "lacteos                                0\n",
              "carnes                                 0\n",
              "verduleria_fruteria                    0\n",
              "alimentos_preparados_rotiseria         0\n",
              "articulos_limpieza_perfumeria          0\n",
              "indumentaria_calzado_textiles_hogar    0\n",
              "electronicos_articulos_hogar           0\n",
              "otros                                  0\n",
              "dtype: int64"
            ]
          },
          "execution_count": 38,
          "metadata": {},
          "output_type": "execute_result"
        }
      ],
      "source": [
        "#Corroboramos valores nulos\n",
        "valores_nulos=data.isnull().sum()\n",
        "valores_nulos"
      ]
    },
    {
      "cell_type": "code",
      "execution_count": null,
      "metadata": {
        "id": "LOyclP5_CHOI"
      },
      "outputs": [],
      "source": [
        "#Segundo método de sustitución de valores nulos\n",
        "#Sustituir valores nulos con mediana\n",
        "data3[\"Precio Venta\"]=data3[\"Precio Venta\"].fillna(round(data2[\"Precio Venta\"].median(),1))"
      ]
    },
    {
      "cell_type": "code",
      "execution_count": null,
      "metadata": {
        "id": "THpDQu3bCJuG"
      },
      "outputs": [],
      "source": [
        "#Corroboramos valores nulos\n",
        "valores_nulos=data3.isnull().sum()\n",
        "valores_nulos"
      ]
    },
    {
      "cell_type": "code",
      "execution_count": null,
      "metadata": {
        "id": "uQh5A6NeCP_f"
      },
      "outputs": [],
      "source": [
        "#Tercer método de sustitución de valores nulos\n",
        "#Sustituir valores nulos por un valor numérico en  concreto \n",
        "#Todos los rellena con 10\n",
        "\n",
        "data3[\"Fecha Alta\"]= data3[\"Fecha Alta\"].fillna(10) \n",
        "data3"
      ]
    },
    {
      "cell_type": "code",
      "execution_count": null,
      "metadata": {
        "id": "dTndvZp0CUfp"
      },
      "outputs": [],
      "source": [
        "#Corroboramos valores nulos\n",
        "valores_nulos=data3.isnull().sum()\n",
        "valores_nulos"
      ]
    },
    {
      "cell_type": "code",
      "execution_count": null,
      "metadata": {
        "id": "33kIKvcYRdpd"
      },
      "outputs": [],
      "source": [
        "#Cuarto método de sustitución de valores nulos\n",
        "#Sustituir valores nulos por un string en  concreto \n",
        "data3[\"Fecha Venta\"] =data3[\"Fecha Venta\"].fillna(\"2030-06-19 00:00:00\") "
      ]
    },
    {
      "cell_type": "code",
      "execution_count": null,
      "metadata": {},
      "outputs": [],
      "source": []
    },
    {
      "cell_type": "code",
      "execution_count": null,
      "metadata": {
        "id": "kXf-TVUiRhUV"
      },
      "outputs": [],
      "source": [
        "#Corroboramos valores nulos\n",
        "valores_nulos=data3.isnull().sum()\n",
        "valores_nulos"
      ]
    },
    {
      "cell_type": "code",
      "execution_count": null,
      "metadata": {
        "id": "bfA8VF0RRixF"
      },
      "outputs": [],
      "source": [
        "#Quinto método de sustitución de valores nulos\n",
        "#Sustituir valores nulos por valores no nulos hacia adelante  \"forward fill\" (\"ffill\")\n",
        "#Filtro por columnas\n",
        "data3[\"Tipo\"] =data3[\"Tipo\"].fillna(method=\"ffill\") "
      ]
    },
    {
      "cell_type": "code",
      "execution_count": null,
      "metadata": {
        "id": "8FAFBdSZRk30"
      },
      "outputs": [],
      "source": [
        "#Corroboramos valores nulos\n",
        "valores_nulos=data3.isnull().sum()\n",
        "valores_nulos"
      ]
    },
    {
      "cell_type": "code",
      "execution_count": null,
      "metadata": {
        "id": "j7WxGmhyRpsp"
      },
      "outputs": [],
      "source": [
        "#Sexto método de sustitución de valores nulos\n",
        "#Sustituir valores nulos por valores no nulos hacia atrás backward fill\" (\"bfill\")\n",
        "#Filtro por columnas\n",
        "data3[\"Operación\"] =data3[\"Operación\"].fillna(method=\"bfill\") "
      ]
    },
    {
      "cell_type": "code",
      "execution_count": null,
      "metadata": {
        "id": "V0uExR9DSGw7"
      },
      "outputs": [],
      "source": [
        "#Corroboramos valores nulos\n",
        "valores_nulos=data3.isnull().sum()\n",
        "valores_nulos"
      ]
    },
    {
      "cell_type": "code",
      "execution_count": null,
      "metadata": {
        "id": "8PIaeNzySMUu"
      },
      "outputs": [],
      "source": [
        "#Sustituir valores nulos por valores no nulos hacia atrás backward fill\" (\"bfill\")\n",
        "data3[\"Provincia\"] =data3[\"Provincia\"].fillna(method=\"bfill\") "
      ]
    },
    {
      "cell_type": "code",
      "execution_count": null,
      "metadata": {
        "id": "bgsLUv4nSOlu"
      },
      "outputs": [],
      "source": [
        "#Corroboramos valores nulos\n",
        "valores_nulos=data3.isnull().sum()\n",
        "valores_nulos"
      ]
    },
    {
      "cell_type": "code",
      "execution_count": null,
      "metadata": {
        "id": "trJXIQb6SQhS"
      },
      "outputs": [],
      "source": [
        "#Sustituir valores nulos por valores no nulos hacia adelante forward fill\" (\"ffill\")\n",
        "#Filtro por columnas\n",
        "data3[\"Vendedor\"] =data3[\"Vendedor\"].fillna(method=\"ffill\") "
      ]
    },
    {
      "cell_type": "code",
      "execution_count": null,
      "metadata": {
        "id": "vVHUi50TSSC4"
      },
      "outputs": [],
      "source": [
        "#Corroboramos valores nulos\n",
        "valores_nulos=data3.isnull().sum()\n",
        "valores_nulos"
      ]
    },
    {
      "cell_type": "code",
      "execution_count": null,
      "metadata": {
        "colab": {
          "base_uri": "https://localhost:8080/"
        },
        "id": "cc0Fkd0pSUx2",
        "outputId": "38dcc567-60bf-4959-9baa-71163021eff2"
      },
      "outputs": [],
      "source": [
        "#Corroboramos valores nulos en todo el dataframe\n",
        "valores_nulos=data3.isnull().sum().sum()\n",
        "valores_nulos"
      ]
    },
    {
      "cell_type": "markdown",
      "metadata": {
        "id": "tCVIsa43Sa6H"
      },
      "source": [
        "**Método de Eliminación de valores nulos**"
      ]
    },
    {
      "cell_type": "code",
      "execution_count": null,
      "metadata": {
        "id": "be7xUcTLSbyO"
      },
      "outputs": [],
      "source": [
        "#Identificar valores nulos por columna\n",
        "valores_nulos=data2.isnull().sum()\n",
        "valores_nulos"
      ]
    },
    {
      "cell_type": "code",
      "execution_count": null,
      "metadata": {
        "id": "Okb0eRLHSezZ"
      },
      "outputs": [],
      "source": [
        "#Realizamos una copia del dataframe\n",
        "data4=data2.copy()\n",
        "data4"
      ]
    },
    {
      "cell_type": "code",
      "execution_count": null,
      "metadata": {
        "id": "qcfpheQTSgeJ"
      },
      "outputs": [],
      "source": [
        "#Eliminamos filas con nulos\n",
        "#No se agrega nada para eliminar filas y 1 para eliminar columnas\n",
        "data4= data2.dropna()\n",
        "data4"
      ]
    },
    {
      "cell_type": "code",
      "execution_count": null,
      "metadata": {
        "id": "9_X658RUSqyZ"
      },
      "outputs": [],
      "source": [
        "#Identificar valores nulos por columna\n",
        "valores_nulos=data4.isnull().sum()\n",
        "valores_nulos"
      ]
    },
    {
      "cell_type": "markdown",
      "metadata": {
        "id": "eE_KwtvDSvi0"
      },
      "source": [
        "**Comparamos DataFrame3(Sustitución) y Dataframe4(Eliminación)**"
      ]
    },
    {
      "cell_type": "code",
      "execution_count": null,
      "metadata": {
        "id": "VgWmvhieSwUr"
      },
      "outputs": [],
      "source": [
        "data3.info()"
      ]
    },
    {
      "cell_type": "code",
      "execution_count": null,
      "metadata": {
        "id": "xflAytJwSx8H"
      },
      "outputs": [],
      "source": [
        "data4.info()"
      ]
    },
    {
      "cell_type": "markdown",
      "metadata": {
        "id": "9PHnleetS3qA"
      },
      "source": [
        "**Convertir DataSet sin valores nulos a CSV**"
      ]
    },
    {
      "cell_type": "code",
      "execution_count": null,
      "metadata": {
        "id": "aRLKT_8TS5__"
      },
      "outputs": [],
      "source": [
        "#Convertir DataFrame a CSV\n",
        "data.to_csv(\"inmuebles_sin_nulos.csv\")"
      ]
    },
    {
      "cell_type": "code",
      "execution_count": null,
      "metadata": {
        "id": "3vDbAM6OTAuv"
      },
      "outputs": [],
      "source": [
        "#descargar archivo filtrado en csv\n",
        "#from google.colab import files \n",
        "  \n",
        "  \n",
        "#files.download(\"inmuebles_sin_nulos.csv\")"
      ]
    },
    {
      "cell_type": "code",
      "execution_count": null,
      "metadata": {},
      "outputs": [],
      "source": [
        "columnas_impares = df.iloc[:, 1::2]"
      ]
    }
  ],
  "metadata": {
    "colab": {
      "authorship_tag": "ABX9TyOp2JCHo4Vm4sW6su3j+TGS",
      "include_colab_link": true,
      "provenance": []
    },
    "kernelspec": {
      "display_name": "Python 3",
      "language": "python",
      "name": "python3"
    },
    "language_info": {
      "codemirror_mode": {
        "name": "ipython",
        "version": 3
      },
      "file_extension": ".py",
      "mimetype": "text/x-python",
      "name": "python",
      "nbconvert_exporter": "python",
      "pygments_lexer": "ipython3",
      "version": "3.12.1"
    }
  },
  "nbformat": 4,
  "nbformat_minor": 0
}
