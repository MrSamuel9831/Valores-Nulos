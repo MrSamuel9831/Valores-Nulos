{
  "cells": [
    {
      "cell_type": "markdown",
      "metadata": {
        "colab_type": "text",
        "id": "view-in-github"
      },
      "source": [
        "<a href=\"https://colab.research.google.com/github/freddy-7/TI3002C/blob/main/2_Valores_Nulos.ipynb\" target=\"_parent\"><img src=\"https://colab.research.google.com/assets/colab-badge.svg\" alt=\"Open In Colab\"/></a>"
      ]
    },
    {
      "cell_type": "code",
      "execution_count": 1,
      "metadata": {
        "id": "nVmUdMye-2LC"
      },
      "outputs": [],
      "source": [
        "#Importamos las librerias pandas, numpy y matplotlib respectivamente\n",
        "import pandas as pd\n",
        "import numpy as np\n",
        "import matplotlib.pyplot as plt"
      ]
    },
    {
      "cell_type": "markdown",
      "metadata": {
        "id": "ppkIN7YD9OCO"
      },
      "source": [
        "**VALORES NULOS**"
      ]
    },
    {
      "cell_type": "code",
      "execution_count": null,
      "metadata": {
        "id": "SJqO09PDA0lS"
      },
      "outputs": [],
      "source": [
        "#Cargar archivo csv desde COLAB\n",
        "#from google.colab import files\n",
        "#files.upload()"
      ]
    },
    {
      "cell_type": "code",
      "execution_count": 6,
      "metadata": {
        "id": "ju4zTK1qA7Zb"
      },
      "outputs": [
        {
          "data": {
            "text/html": [
              "<div>\n",
              "<style scoped>\n",
              "    .dataframe tbody tr th:only-of-type {\n",
              "        vertical-align: middle;\n",
              "    }\n",
              "\n",
              "    .dataframe tbody tr th {\n",
              "        vertical-align: top;\n",
              "    }\n",
              "\n",
              "    .dataframe thead th {\n",
              "        text-align: right;\n",
              "    }\n",
              "</style>\n",
              "<table border=\"1\" class=\"dataframe\">\n",
              "  <thead>\n",
              "    <tr style=\"text-align: right;\">\n",
              "      <th></th>\n",
              "      <th>CALOR Y CONTROL S.A DE C.V</th>\n",
              "      <th>Unnamed: 1</th>\n",
              "      <th>Unnamed: 2</th>\n",
              "      <th>Unnamed: 3</th>\n",
              "      <th>Unnamed: 4</th>\n",
              "      <th>Unnamed: 5</th>\n",
              "      <th>Unnamed: 6</th>\n",
              "      <th>Unnamed: 7</th>\n",
              "      <th>Unnamed: 8</th>\n",
              "      <th>Unnamed: 9</th>\n",
              "      <th>Unnamed: 10</th>\n",
              "      <th>Unnamed: 11</th>\n",
              "      <th>Unnamed: 12</th>\n",
              "      <th>GASTO</th>\n",
              "      <th>10418041.6</th>\n",
              "      <th>Unnamed: 15</th>\n",
              "      <th>Unnamed: 16</th>\n",
              "      <th>Unnamed: 17</th>\n",
              "      <th>Unnamed: 18</th>\n",
              "    </tr>\n",
              "  </thead>\n",
              "  <tbody>\n",
              "    <tr>\n",
              "      <th>0</th>\n",
              "      <td>DEDUCCIONES 2020</td>\n",
              "      <td>NaN</td>\n",
              "      <td>NaN</td>\n",
              "      <td>NaN</td>\n",
              "      <td>NaN</td>\n",
              "      <td>NaN</td>\n",
              "      <td>NaN</td>\n",
              "      <td>NaN</td>\n",
              "      <td>NaN</td>\n",
              "      <td>NaN</td>\n",
              "      <td>NaN</td>\n",
              "      <td>NaN</td>\n",
              "      <td>NaN</td>\n",
              "      <td>IVA</td>\n",
              "      <td>1597941.439</td>\n",
              "      <td>NaN</td>\n",
              "      <td>NaN</td>\n",
              "      <td>NaN</td>\n",
              "      <td>NaN</td>\n",
              "    </tr>\n",
              "    <tr>\n",
              "      <th>1</th>\n",
              "      <td>NaN</td>\n",
              "      <td>NaN</td>\n",
              "      <td>NaN</td>\n",
              "      <td>NaN</td>\n",
              "      <td>NaN</td>\n",
              "      <td>NaN</td>\n",
              "      <td>NaN</td>\n",
              "      <td>NaN</td>\n",
              "      <td>NaN</td>\n",
              "      <td>NaN</td>\n",
              "      <td>NaN</td>\n",
              "      <td>NaN</td>\n",
              "      <td>NaN</td>\n",
              "      <td>RET IVA</td>\n",
              "      <td>198890.4</td>\n",
              "      <td>NaN</td>\n",
              "      <td>NaN</td>\n",
              "      <td>NaN</td>\n",
              "      <td>NaN</td>\n",
              "    </tr>\n",
              "    <tr>\n",
              "      <th>2</th>\n",
              "      <td>NaN</td>\n",
              "      <td>NaN</td>\n",
              "      <td>NaN</td>\n",
              "      <td>NaN</td>\n",
              "      <td>NaN</td>\n",
              "      <td>NaN</td>\n",
              "      <td>NaN</td>\n",
              "      <td>NaN</td>\n",
              "      <td>NaN</td>\n",
              "      <td>NaN</td>\n",
              "      <td>NaN</td>\n",
              "      <td>NaN</td>\n",
              "      <td>NaN</td>\n",
              "      <td>RET ISR</td>\n",
              "      <td>66039.89</td>\n",
              "      <td>NaN</td>\n",
              "      <td>NaN</td>\n",
              "      <td>NaN</td>\n",
              "      <td>NaN</td>\n",
              "    </tr>\n",
              "    <tr>\n",
              "      <th>3</th>\n",
              "      <td>NaN</td>\n",
              "      <td>NaN</td>\n",
              "      <td>NaN</td>\n",
              "      <td>NaN</td>\n",
              "      <td>NaN</td>\n",
              "      <td>NaN</td>\n",
              "      <td>NaN</td>\n",
              "      <td>NaN</td>\n",
              "      <td>NaN</td>\n",
              "      <td>NaN</td>\n",
              "      <td>NaN</td>\n",
              "      <td>NaN</td>\n",
              "      <td>NaN</td>\n",
              "      <td>NaN</td>\n",
              "      <td>NaN</td>\n",
              "      <td>NaN</td>\n",
              "      <td>NaN</td>\n",
              "      <td>NaN</td>\n",
              "      <td>NaN</td>\n",
              "    </tr>\n",
              "    <tr>\n",
              "      <th>4</th>\n",
              "      <td>FECHA</td>\n",
              "      <td>FOLIO</td>\n",
              "      <td>UUID</td>\n",
              "      <td>RFC</td>\n",
              "      <td>PROVEEDOR</td>\n",
              "      <td>TIPO GASTO</td>\n",
              "      <td>GASTO</td>\n",
              "      <td>DESCRIPCION</td>\n",
              "      <td>TC</td>\n",
              "      <td>IMPORTE</td>\n",
              "      <td>IVA</td>\n",
              "      <td>RET ISR</td>\n",
              "      <td>RET IVA</td>\n",
              "      <td>TOTAL MX</td>\n",
              "      <td>TOTAL SAT</td>\n",
              "      <td>TIPO</td>\n",
              "      <td>STATUS</td>\n",
              "      <td>POLIZA</td>\n",
              "      <td>Columna1</td>\n",
              "    </tr>\n",
              "  </tbody>\n",
              "</table>\n",
              "</div>"
            ],
            "text/plain": [
              "  CALOR Y CONTROL S.A DE C.V Unnamed: 1 Unnamed: 2 Unnamed: 3 Unnamed: 4  \\\n",
              "0           DEDUCCIONES 2020        NaN        NaN        NaN        NaN   \n",
              "1                        NaN        NaN        NaN        NaN        NaN   \n",
              "2                        NaN        NaN        NaN        NaN        NaN   \n",
              "3                        NaN        NaN        NaN        NaN        NaN   \n",
              "4                      FECHA      FOLIO       UUID        RFC  PROVEEDOR   \n",
              "\n",
              "   Unnamed: 5 Unnamed: 6   Unnamed: 7 Unnamed: 8 Unnamed: 9 Unnamed: 10  \\\n",
              "0         NaN        NaN          NaN        NaN        NaN         NaN   \n",
              "1         NaN        NaN          NaN        NaN        NaN         NaN   \n",
              "2         NaN        NaN          NaN        NaN        NaN         NaN   \n",
              "3         NaN        NaN          NaN        NaN        NaN         NaN   \n",
              "4  TIPO GASTO      GASTO  DESCRIPCION         TC    IMPORTE         IVA   \n",
              "\n",
              "  Unnamed: 11 Unnamed: 12     GASTO   10418041.6 Unnamed: 15 Unnamed: 16  \\\n",
              "0         NaN         NaN       IVA  1597941.439         NaN         NaN   \n",
              "1         NaN         NaN   RET IVA     198890.4         NaN         NaN   \n",
              "2         NaN         NaN   RET ISR     66039.89         NaN         NaN   \n",
              "3         NaN         NaN       NaN          NaN         NaN         NaN   \n",
              "4     RET ISR     RET IVA  TOTAL MX    TOTAL SAT        TIPO      STATUS   \n",
              "\n",
              "  Unnamed: 17 Unnamed: 18  \n",
              "0         NaN         NaN  \n",
              "1         NaN         NaN  \n",
              "2         NaN         NaN  \n",
              "3         NaN         NaN  \n",
              "4      POLIZA    Columna1  "
            ]
          },
          "execution_count": 6,
          "metadata": {},
          "output_type": "execute_result"
        }
      ],
      "source": [
        "#Carga desde un archivo .csv sin indice\n",
        "data = pd.read_excel('Gastos y costos 20-23.xlsx')\n",
        "data.head(5)"
      ]
    },
    {
      "cell_type": "code",
      "execution_count": null,
      "metadata": {
        "id": "X10o4y31A_pn"
      },
      "outputs": [
        {
          "data": {
            "text/html": [
              "<div>\n",
              "<style scoped>\n",
              "    .dataframe tbody tr th:only-of-type {\n",
              "        vertical-align: middle;\n",
              "    }\n",
              "\n",
              "    .dataframe tbody tr th {\n",
              "        vertical-align: top;\n",
              "    }\n",
              "\n",
              "    .dataframe thead th {\n",
              "        text-align: right;\n",
              "    }\n",
              "</style>\n",
              "<table border=\"1\" class=\"dataframe\">\n",
              "  <thead>\n",
              "    <tr style=\"text-align: right;\">\n",
              "      <th></th>\n",
              "      <th>FECHA</th>\n",
              "      <th>FOLIO</th>\n",
              "      <th>UUID</th>\n",
              "      <th>RFC</th>\n",
              "      <th>PROVEEDOR</th>\n",
              "      <th>TIPO GASTO</th>\n",
              "      <th>GASTO</th>\n",
              "      <th>DESCRIPCION</th>\n",
              "      <th>TC</th>\n",
              "      <th>IMPORTE</th>\n",
              "      <th>IVA</th>\n",
              "      <th>RET ISR</th>\n",
              "      <th>RET IVA</th>\n",
              "      <th>TOTAL MX</th>\n",
              "      <th>TOTAL SAT</th>\n",
              "      <th>TIPO</th>\n",
              "      <th>STATUS</th>\n",
              "      <th>POLIZA</th>\n",
              "      <th>Columna1</th>\n",
              "    </tr>\n",
              "  </thead>\n",
              "  <tbody>\n",
              "    <tr>\n",
              "      <th>0</th>\n",
              "      <td>2020-01-01</td>\n",
              "      <td>39408</td>\n",
              "      <td>BD20F436-72CC-4BE2-AD37-5999D71AA391</td>\n",
              "      <td>ARE080115PBA</td>\n",
              "      <td>ARSI RENTA SA DE CV</td>\n",
              "      <td>MAQUINARIA</td>\n",
              "      <td>NaN</td>\n",
              "      <td>Descripción: REVOLVEDORA, Modelo: ULTRAMP9A, M...</td>\n",
              "      <td>1.0</td>\n",
              "      <td>0.00</td>\n",
              "      <td>2248.28</td>\n",
              "      <td>0.0</td>\n",
              "      <td>0.0</td>\n",
              "      <td>2248.28</td>\n",
              "      <td>16300.00</td>\n",
              "      <td>I</td>\n",
              "      <td>Vigente</td>\n",
              "      <td>NaN</td>\n",
              "      <td>14051.72</td>\n",
              "    </tr>\n",
              "    <tr>\n",
              "      <th>1</th>\n",
              "      <td>2020-01-01</td>\n",
              "      <td>0001010100750847116902</td>\n",
              "      <td>85AEAC2E-6395-44A0-9CB9-754D06893375</td>\n",
              "      <td>BNM840515VB1</td>\n",
              "      <td>BANCO NACIONAL DE MEXICO, S.A.</td>\n",
              "      <td>COMISION BANCARIA</td>\n",
              "      <td>NaN</td>\n",
              "      <td>COMISION COBRADA</td>\n",
              "      <td>1.0</td>\n",
              "      <td>490.00</td>\n",
              "      <td>78.40</td>\n",
              "      <td>0.0</td>\n",
              "      <td>0.0</td>\n",
              "      <td>568.40</td>\n",
              "      <td>568.40</td>\n",
              "      <td>I</td>\n",
              "      <td>Vigente</td>\n",
              "      <td>NaN</td>\n",
              "      <td>0.00</td>\n",
              "    </tr>\n",
              "    <tr>\n",
              "      <th>2</th>\n",
              "      <td>2020-01-01</td>\n",
              "      <td>0001010100752163714102</td>\n",
              "      <td>BD0DFE85-D776-41CB-9C5C-4FA7923E687A</td>\n",
              "      <td>BNM840515VB1</td>\n",
              "      <td>BANCO NACIONAL DE MEXICO, S.A.</td>\n",
              "      <td>COMISION BANCARIA</td>\n",
              "      <td>NaN</td>\n",
              "      <td>COMISION COBRADA</td>\n",
              "      <td>1.0</td>\n",
              "      <td>195.00</td>\n",
              "      <td>31.20</td>\n",
              "      <td>0.0</td>\n",
              "      <td>0.0</td>\n",
              "      <td>226.20</td>\n",
              "      <td>226.20</td>\n",
              "      <td>I</td>\n",
              "      <td>Vigente</td>\n",
              "      <td>NaN</td>\n",
              "      <td>0.00</td>\n",
              "    </tr>\n",
              "    <tr>\n",
              "      <th>3</th>\n",
              "      <td>2020-01-01</td>\n",
              "      <td>3663</td>\n",
              "      <td>EF4504D6-830D-415C-AF03-80CF54C5E28E</td>\n",
              "      <td>PSS120625C86</td>\n",
              "      <td>PROMOTORA DE SERVICIOS Y SOLUCIONES EMPRESARIA...</td>\n",
              "      <td>HONORARIOS CONTABLES</td>\n",
              "      <td>NaN</td>\n",
              "      <td>HONORARIOS CONTABLES\\nDEL MES DE ENERO DEL 2020.</td>\n",
              "      <td>1.0</td>\n",
              "      <td>10694.25</td>\n",
              "      <td>1711.08</td>\n",
              "      <td>0.0</td>\n",
              "      <td>0.0</td>\n",
              "      <td>12405.33</td>\n",
              "      <td>12405.33</td>\n",
              "      <td>I</td>\n",
              "      <td>Vigente</td>\n",
              "      <td>NaN</td>\n",
              "      <td>0.00</td>\n",
              "    </tr>\n",
              "    <tr>\n",
              "      <th>4</th>\n",
              "      <td>2020-01-01</td>\n",
              "      <td>2849</td>\n",
              "      <td>EC2F4AA4-BA64-4E2E-A5B7-4EBBE042D6D3</td>\n",
              "      <td>ENA7006081P0</td>\n",
              "      <td>ELECTROTERMICA NACIONAL SA DE CV</td>\n",
              "      <td>COMPRAS</td>\n",
              "      <td>NaN</td>\n",
              "      <td>Pago</td>\n",
              "      <td>1.0</td>\n",
              "      <td>0.00</td>\n",
              "      <td>NaN</td>\n",
              "      <td>0.0</td>\n",
              "      <td>0.0</td>\n",
              "      <td>0.00</td>\n",
              "      <td>0.00</td>\n",
              "      <td>P</td>\n",
              "      <td>Vigente</td>\n",
              "      <td>NaN</td>\n",
              "      <td>0.00</td>\n",
              "    </tr>\n",
              "    <tr>\n",
              "      <th>...</th>\n",
              "      <td>...</td>\n",
              "      <td>...</td>\n",
              "      <td>...</td>\n",
              "      <td>...</td>\n",
              "      <td>...</td>\n",
              "      <td>...</td>\n",
              "      <td>...</td>\n",
              "      <td>...</td>\n",
              "      <td>...</td>\n",
              "      <td>...</td>\n",
              "      <td>...</td>\n",
              "      <td>...</td>\n",
              "      <td>...</td>\n",
              "      <td>...</td>\n",
              "      <td>...</td>\n",
              "      <td>...</td>\n",
              "      <td>...</td>\n",
              "      <td>...</td>\n",
              "      <td>...</td>\n",
              "    </tr>\n",
              "    <tr>\n",
              "      <th>3337</th>\n",
              "      <td>2020-12-01</td>\n",
              "      <td>125834</td>\n",
              "      <td>80BCB1D8-673F-495B-9C2A-4AC9F9CB38E5</td>\n",
              "      <td>SQS110113MU0</td>\n",
              "      <td>SERVICIO QUINTANA SUR S.A DE C.V</td>\n",
              "      <td>COMBUSTIBLE</td>\n",
              "      <td>G VTA</td>\n",
              "      <td>32011 MAGNA</td>\n",
              "      <td>1.0</td>\n",
              "      <td>129.79</td>\n",
              "      <td>20.21</td>\n",
              "      <td>0.0</td>\n",
              "      <td>0.0</td>\n",
              "      <td>150.00</td>\n",
              "      <td>150.00</td>\n",
              "      <td>I</td>\n",
              "      <td>Vigente</td>\n",
              "      <td>NaN</td>\n",
              "      <td>0.00</td>\n",
              "    </tr>\n",
              "    <tr>\n",
              "      <th>3338</th>\n",
              "      <td>2020-12-01</td>\n",
              "      <td>37652</td>\n",
              "      <td>D4C7C1FB-03A7-4046-A2BD-03EBE7DA861E</td>\n",
              "      <td>PSQ790724C90</td>\n",
              "      <td>CIA. PERIODISTICA DEL SOL DE QUERETARO, S.A. D...</td>\n",
              "      <td>PUBLICIDAD</td>\n",
              "      <td>G VTA</td>\n",
              "      <td>82101504-PUBLICIDAD EN PERIODICOSCALOR Y CONTROL</td>\n",
              "      <td>1.0</td>\n",
              "      <td>2284.80</td>\n",
              "      <td>365.57</td>\n",
              "      <td>0.0</td>\n",
              "      <td>0.0</td>\n",
              "      <td>2650.37</td>\n",
              "      <td>2650.37</td>\n",
              "      <td>I</td>\n",
              "      <td>Vigente</td>\n",
              "      <td>NaN</td>\n",
              "      <td>0.00</td>\n",
              "    </tr>\n",
              "    <tr>\n",
              "      <th>3339</th>\n",
              "      <td>2020-12-01</td>\n",
              "      <td>160</td>\n",
              "      <td>FFCEE7D4-1F38-4D44-BE02-EB042DAACEE7</td>\n",
              "      <td>SQX981027RY5</td>\n",
              "      <td>SUPER Q, S. A. DE C. V.</td>\n",
              "      <td>ALIMENTOS</td>\n",
              "      <td>G VTA</td>\n",
              "      <td>REF VICTORIA GROSELLA 3 LT PET NR</td>\n",
              "      <td>1.0</td>\n",
              "      <td>163.79</td>\n",
              "      <td>26.21</td>\n",
              "      <td>0.0</td>\n",
              "      <td>0.0</td>\n",
              "      <td>190.00</td>\n",
              "      <td>190.00</td>\n",
              "      <td>I</td>\n",
              "      <td>Vigente</td>\n",
              "      <td>NaN</td>\n",
              "      <td>0.00</td>\n",
              "    </tr>\n",
              "    <tr>\n",
              "      <th>3340</th>\n",
              "      <td>2020-12-01</td>\n",
              "      <td>634875</td>\n",
              "      <td>8DFF4F01-2F8B-4085-B116-05A314108B02</td>\n",
              "      <td>BIN940223KE0</td>\n",
              "      <td>BANCO INVEX, S.A., INSTITUCION DE BANCA MULTIP...</td>\n",
              "      <td>COMISION BANCARIA</td>\n",
              "      <td>G FINA</td>\n",
              "      <td>COMISIONES E INTERESES</td>\n",
              "      <td>1.0</td>\n",
              "      <td>0.00</td>\n",
              "      <td>0.00</td>\n",
              "      <td>0.0</td>\n",
              "      <td>0.0</td>\n",
              "      <td>0.00</td>\n",
              "      <td>0.00</td>\n",
              "      <td>I</td>\n",
              "      <td>Vigente</td>\n",
              "      <td>NaN</td>\n",
              "      <td>0.00</td>\n",
              "    </tr>\n",
              "    <tr>\n",
              "      <th>3341</th>\n",
              "      <td>2020-12-01</td>\n",
              "      <td>1044477</td>\n",
              "      <td>F18225D6-4024-4F03-A15A-D18917386D59</td>\n",
              "      <td>EFE8908015L3</td>\n",
              "      <td>EFECTIVALE S. de R.L. de C.V.</td>\n",
              "      <td>COMBUSTIBLE</td>\n",
              "      <td>G VTA</td>\n",
              "      <td>CONSUMOS DE COMBUSTIBLE DE MONEDEROS ELECTRONICOS</td>\n",
              "      <td>1.0</td>\n",
              "      <td>14889.29</td>\n",
              "      <td>0.00</td>\n",
              "      <td>0.0</td>\n",
              "      <td>0.0</td>\n",
              "      <td>14889.29</td>\n",
              "      <td>14889.29</td>\n",
              "      <td>I</td>\n",
              "      <td>Vigente</td>\n",
              "      <td>NaN</td>\n",
              "      <td>0.00</td>\n",
              "    </tr>\n",
              "  </tbody>\n",
              "</table>\n",
              "<p>3342 rows × 19 columns</p>\n",
              "</div>"
            ],
            "text/plain": [
              "          FECHA                   FOLIO                                  UUID  \\\n",
              "0    2020-01-01                   39408  BD20F436-72CC-4BE2-AD37-5999D71AA391   \n",
              "1    2020-01-01  0001010100750847116902  85AEAC2E-6395-44A0-9CB9-754D06893375   \n",
              "2    2020-01-01  0001010100752163714102  BD0DFE85-D776-41CB-9C5C-4FA7923E687A   \n",
              "3    2020-01-01                    3663  EF4504D6-830D-415C-AF03-80CF54C5E28E   \n",
              "4    2020-01-01                    2849  EC2F4AA4-BA64-4E2E-A5B7-4EBBE042D6D3   \n",
              "...         ...                     ...                                   ...   \n",
              "3337 2020-12-01                  125834  80BCB1D8-673F-495B-9C2A-4AC9F9CB38E5   \n",
              "3338 2020-12-01                   37652  D4C7C1FB-03A7-4046-A2BD-03EBE7DA861E   \n",
              "3339 2020-12-01                     160  FFCEE7D4-1F38-4D44-BE02-EB042DAACEE7   \n",
              "3340 2020-12-01                  634875  8DFF4F01-2F8B-4085-B116-05A314108B02   \n",
              "3341 2020-12-01                 1044477  F18225D6-4024-4F03-A15A-D18917386D59   \n",
              "\n",
              "               RFC                                          PROVEEDOR  \\\n",
              "0     ARE080115PBA                                ARSI RENTA SA DE CV   \n",
              "1     BNM840515VB1                     BANCO NACIONAL DE MEXICO, S.A.   \n",
              "2     BNM840515VB1                     BANCO NACIONAL DE MEXICO, S.A.   \n",
              "3     PSS120625C86  PROMOTORA DE SERVICIOS Y SOLUCIONES EMPRESARIA...   \n",
              "4     ENA7006081P0                   ELECTROTERMICA NACIONAL SA DE CV   \n",
              "...            ...                                                ...   \n",
              "3337  SQS110113MU0                   SERVICIO QUINTANA SUR S.A DE C.V   \n",
              "3338  PSQ790724C90  CIA. PERIODISTICA DEL SOL DE QUERETARO, S.A. D...   \n",
              "3339  SQX981027RY5                            SUPER Q, S. A. DE C. V.   \n",
              "3340  BIN940223KE0  BANCO INVEX, S.A., INSTITUCION DE BANCA MULTIP...   \n",
              "3341  EFE8908015L3                      EFECTIVALE S. de R.L. de C.V.   \n",
              "\n",
              "                TIPO GASTO   GASTO  \\\n",
              "0               MAQUINARIA     NaN   \n",
              "1        COMISION BANCARIA     NaN   \n",
              "2        COMISION BANCARIA     NaN   \n",
              "3     HONORARIOS CONTABLES     NaN   \n",
              "4                  COMPRAS     NaN   \n",
              "...                    ...     ...   \n",
              "3337           COMBUSTIBLE   G VTA   \n",
              "3338            PUBLICIDAD   G VTA   \n",
              "3339             ALIMENTOS   G VTA   \n",
              "3340     COMISION BANCARIA  G FINA   \n",
              "3341           COMBUSTIBLE   G VTA   \n",
              "\n",
              "                                            DESCRIPCION   TC   IMPORTE  \\\n",
              "0     Descripción: REVOLVEDORA, Modelo: ULTRAMP9A, M...  1.0      0.00   \n",
              "1                                      COMISION COBRADA  1.0    490.00   \n",
              "2                                      COMISION COBRADA  1.0    195.00   \n",
              "3      HONORARIOS CONTABLES\\nDEL MES DE ENERO DEL 2020.  1.0  10694.25   \n",
              "4                                                  Pago  1.0      0.00   \n",
              "...                                                 ...  ...       ...   \n",
              "3337                                        32011 MAGNA  1.0    129.79   \n",
              "3338   82101504-PUBLICIDAD EN PERIODICOSCALOR Y CONTROL  1.0   2284.80   \n",
              "3339                  REF VICTORIA GROSELLA 3 LT PET NR  1.0    163.79   \n",
              "3340                             COMISIONES E INTERESES  1.0      0.00   \n",
              "3341  CONSUMOS DE COMBUSTIBLE DE MONEDEROS ELECTRONICOS  1.0  14889.29   \n",
              "\n",
              "          IVA  RET ISR  RET IVA  TOTAL MX  TOTAL SAT TIPO   STATUS POLIZA  \\\n",
              "0     2248.28      0.0      0.0   2248.28   16300.00    I  Vigente    NaN   \n",
              "1       78.40      0.0      0.0    568.40     568.40    I  Vigente    NaN   \n",
              "2       31.20      0.0      0.0    226.20     226.20    I  Vigente    NaN   \n",
              "3     1711.08      0.0      0.0  12405.33   12405.33    I  Vigente    NaN   \n",
              "4         NaN      0.0      0.0      0.00       0.00    P  Vigente    NaN   \n",
              "...       ...      ...      ...       ...        ...  ...      ...    ...   \n",
              "3337    20.21      0.0      0.0    150.00     150.00    I  Vigente    NaN   \n",
              "3338   365.57      0.0      0.0   2650.37    2650.37    I  Vigente    NaN   \n",
              "3339    26.21      0.0      0.0    190.00     190.00    I  Vigente    NaN   \n",
              "3340     0.00      0.0      0.0      0.00       0.00    I  Vigente    NaN   \n",
              "3341     0.00      0.0      0.0  14889.29   14889.29    I  Vigente    NaN   \n",
              "\n",
              "      Columna1  \n",
              "0     14051.72  \n",
              "1         0.00  \n",
              "2         0.00  \n",
              "3         0.00  \n",
              "4         0.00  \n",
              "...        ...  \n",
              "3337      0.00  \n",
              "3338      0.00  \n",
              "3339      0.00  \n",
              "3340      0.00  \n",
              "3341      0.00  \n",
              "\n",
              "[3342 rows x 19 columns]"
            ]
          },
          "execution_count": 57,
          "metadata": {},
          "output_type": "execute_result"
        }
      ],
      "source": [
        "#Eliminar primera fila o filas innecesarias\n",
        "data1= pd.read_excel('Gastos y costos 20-23.xlsx', skiprows=5)\n",
        "data1\n",
        "\n"
      ]
    },
    {
      "cell_type": "code",
      "execution_count": 64,
      "metadata": {
        "id": "R6VgHZUJBEWf"
      },
      "outputs": [
        {
          "name": "stdout",
          "output_type": "stream",
          "text": [
            "Index(['CALOR Y CONTROL S.A DE C.V',                 'Unnamed: 1',\n",
            "                       'Unnamed: 2',                 'Unnamed: 3',\n",
            "                       'Unnamed: 4',                 'Unnamed: 5',\n",
            "                       'Unnamed: 6',                 'Unnamed: 7',\n",
            "                       'Unnamed: 8',                 'Unnamed: 9',\n",
            "                      'Unnamed: 10',                'Unnamed: 11',\n",
            "                      'Unnamed: 12',                      'GASTO',\n",
            "                         10418041.6,                'Unnamed: 15',\n",
            "                      'Unnamed: 16',                'Unnamed: 17',\n",
            "                      'Unnamed: 18'],\n",
            "      dtype='object')\n"
          ]
        }
      ],
      "source": [
        "#Eliminar columnas innecesarias\n",
        "#axis = 1 para columnas\n",
        "#axis = 0 para filas\n",
        "#data2= data1.drop(['0','Referencia'], axis=1)\n",
        "#data2\n",
        "print(data.columns)\n"
      ]
    },
    {
      "cell_type": "code",
      "execution_count": 59,
      "metadata": {
        "id": "0-dWeOUHBIkq"
      },
      "outputs": [
        {
          "data": {
            "text/plain": [
              "CALOR Y CONTROL S.A DE C.V    0\n",
              "Unnamed: 1                    0\n",
              "Unnamed: 2                    0\n",
              "Unnamed: 3                    0\n",
              "Unnamed: 4                    0\n",
              "Unnamed: 5                    0\n",
              "Unnamed: 6                    0\n",
              "Unnamed: 7                    0\n",
              "Unnamed: 8                    0\n",
              "Unnamed: 9                    0\n",
              "Unnamed: 10                   0\n",
              "Unnamed: 11                   0\n",
              "Unnamed: 12                   0\n",
              "GASTO                         0\n",
              "10418041.6                    1\n",
              "Unnamed: 15                   0\n",
              "Unnamed: 16                   0\n",
              "Unnamed: 17                   0\n",
              "Unnamed: 18                   0\n",
              "dtype: int64"
            ]
          },
          "execution_count": 59,
          "metadata": {},
          "output_type": "execute_result"
        }
      ],
      "source": [
        "#Identificar valores nulos por columna\n",
        "valores_nulos=data.isnull().sum()\n",
        "valores_nulos"
      ]
    },
    {
      "cell_type": "code",
      "execution_count": null,
      "metadata": {
        "id": "CY6wFkDvYtrD"
      },
      "outputs": [],
      "source": [
        "#Identificar valores nulos por dataframe\n",
        "valores_nulos=data2.isnull().sum().sum()\n",
        "valores_nulos"
      ]
    },
    {
      "cell_type": "markdown",
      "metadata": {
        "id": "XncKYOfkBl1y"
      },
      "source": [
        "**Métodos de Sustitución de Valores Nulos**"
      ]
    },
    {
      "cell_type": "code",
      "execution_count": null,
      "metadata": {
        "id": "zMJieQa6Bntp"
      },
      "outputs": [],
      "source": [
        "#Realizamos una copia del dataframe\n",
        "data3=data2.copy()"
      ]
    },
    {
      "cell_type": "code",
      "execution_count": null,
      "metadata": {
        "id": "sabbsa7jBp_8"
      },
      "outputs": [],
      "source": [
        "#Primer método de sustitución de valores nulos\n",
        "#Sustituir valores nulos con promedio o media\n",
        "data[\"=SUMA(J:J)\"]=data[\"=SUMA(J:J)\"].fillna(round(data[\"=SUMA(J:J)\"].mean(),1))"
      ]
    },
    {
      "cell_type": "code",
      "execution_count": 65,
      "metadata": {
        "id": "ABDcOFMCByzN"
      },
      "outputs": [
        {
          "data": {
            "text/plain": [
              "CALOR Y CONTROL S.A DE C.V    0\n",
              "Unnamed: 1                    0\n",
              "Unnamed: 2                    0\n",
              "Unnamed: 3                    0\n",
              "Unnamed: 4                    0\n",
              "Unnamed: 5                    0\n",
              "Unnamed: 6                    0\n",
              "Unnamed: 7                    0\n",
              "Unnamed: 8                    0\n",
              "Unnamed: 9                    0\n",
              "Unnamed: 10                   0\n",
              "Unnamed: 11                   0\n",
              "Unnamed: 12                   0\n",
              "GASTO                         0\n",
              "10418041.6                    1\n",
              "Unnamed: 15                   0\n",
              "Unnamed: 16                   0\n",
              "Unnamed: 17                   0\n",
              "Unnamed: 18                   0\n",
              "dtype: int64"
            ]
          },
          "execution_count": 65,
          "metadata": {},
          "output_type": "execute_result"
        }
      ],
      "source": [
        "#Corroboramos valores nulos\n",
        "valores_nulos=data.isnull().sum()\n",
        "valores_nulos"
      ]
    },
    {
      "cell_type": "code",
      "execution_count": null,
      "metadata": {
        "id": "LOyclP5_CHOI"
      },
      "outputs": [],
      "source": [
        "#Segundo método de sustitución de valores nulos\n",
        "#Sustituir valores nulos con mediana\n",
        "data3[\"Precio Venta\"]=data3[\"Precio Venta\"].fillna(round(data2[\"Precio Venta\"].median(),1))"
      ]
    },
    {
      "cell_type": "code",
      "execution_count": null,
      "metadata": {
        "id": "THpDQu3bCJuG"
      },
      "outputs": [],
      "source": [
        "#Corroboramos valores nulos\n",
        "valores_nulos=data3.isnull().sum()\n",
        "valores_nulos"
      ]
    },
    {
      "cell_type": "code",
      "execution_count": null,
      "metadata": {
        "id": "uQh5A6NeCP_f"
      },
      "outputs": [],
      "source": [
        "#Tercer método de sustitución de valores nulos\n",
        "#Sustituir valores nulos por un valor numérico en  concreto \n",
        "#Todos los rellena con 10\n",
        "\n",
        "data3[\"Fecha Alta\"]= data3[\"Fecha Alta\"].fillna(10) \n",
        "data3"
      ]
    },
    {
      "cell_type": "code",
      "execution_count": null,
      "metadata": {
        "id": "dTndvZp0CUfp"
      },
      "outputs": [],
      "source": [
        "#Corroboramos valores nulos\n",
        "valores_nulos=data3.isnull().sum()\n",
        "valores_nulos"
      ]
    },
    {
      "cell_type": "code",
      "execution_count": 70,
      "metadata": {
        "id": "33kIKvcYRdpd"
      },
      "outputs": [],
      "source": [
        "#Cuarto método de sustitución de valores nulos\n",
        "#Sustituir valores nulos por un string en  concreto \n",
        "data[10418041.6] =data[10418041.6].fillna(\"NO DATA\") "
      ]
    },
    {
      "cell_type": "code",
      "execution_count": 71,
      "metadata": {},
      "outputs": [
        {
          "name": "stdout",
          "output_type": "stream",
          "text": [
            "Index(['CALOR Y CONTROL S.A DE C.V',                 'Unnamed: 1',\n",
            "                       'Unnamed: 2',                 'Unnamed: 3',\n",
            "                       'Unnamed: 4',                 'Unnamed: 5',\n",
            "                       'Unnamed: 6',                 'Unnamed: 7',\n",
            "                       'Unnamed: 8',                 'Unnamed: 9',\n",
            "                      'Unnamed: 10',                'Unnamed: 11',\n",
            "                      'Unnamed: 12',                      'GASTO',\n",
            "                         10418041.6,                'Unnamed: 15',\n",
            "                      'Unnamed: 16',                'Unnamed: 17',\n",
            "                      'Unnamed: 18'],\n",
            "      dtype='object')\n"
          ]
        }
      ],
      "source": [
        "\n",
        "print(data.columns)"
      ]
    },
    {
      "cell_type": "code",
      "execution_count": 72,
      "metadata": {
        "id": "kXf-TVUiRhUV"
      },
      "outputs": [
        {
          "data": {
            "text/plain": [
              "CALOR Y CONTROL S.A DE C.V    0\n",
              "Unnamed: 1                    0\n",
              "Unnamed: 2                    0\n",
              "Unnamed: 3                    0\n",
              "Unnamed: 4                    0\n",
              "Unnamed: 5                    0\n",
              "Unnamed: 6                    0\n",
              "Unnamed: 7                    0\n",
              "Unnamed: 8                    0\n",
              "Unnamed: 9                    0\n",
              "Unnamed: 10                   0\n",
              "Unnamed: 11                   0\n",
              "Unnamed: 12                   0\n",
              "GASTO                         0\n",
              "10418041.6                    0\n",
              "Unnamed: 15                   0\n",
              "Unnamed: 16                   0\n",
              "Unnamed: 17                   0\n",
              "Unnamed: 18                   0\n",
              "dtype: int64"
            ]
          },
          "execution_count": 72,
          "metadata": {},
          "output_type": "execute_result"
        }
      ],
      "source": [
        "#Corroboramos valores nulos\n",
        "valores_nulos=data.isnull().sum()\n",
        "valores_nulos"
      ]
    },
    {
      "cell_type": "code",
      "execution_count": null,
      "metadata": {
        "id": "bfA8VF0RRixF"
      },
      "outputs": [],
      "source": [
        "#Quinto método de sustitución de valores nulos\n",
        "#Sustituir valores nulos por valores no nulos hacia adelante  \"forward fill\" (\"ffill\")\n",
        "#Filtro por columnas\n",
        "data[\"10418041.6\"] =data[\"10418041.6\"].fillna(method=\"ffill\") "
      ]
    },
    {
      "cell_type": "code",
      "execution_count": null,
      "metadata": {
        "id": "8FAFBdSZRk30"
      },
      "outputs": [],
      "source": [
        "#Corroboramos valores nulos\n",
        "valores_nulos=data3.isnull().sum()\n",
        "valores_nulos"
      ]
    },
    {
      "cell_type": "code",
      "execution_count": null,
      "metadata": {
        "id": "j7WxGmhyRpsp"
      },
      "outputs": [],
      "source": [
        "#Sexto método de sustitución de valores nulos\n",
        "#Sustituir valores nulos por valores no nulos hacia atrás backward fill\" (\"bfill\")\n",
        "#Filtro por columnas\n",
        "data3[\"Operación\"] =data3[\"Operación\"].fillna(method=\"bfill\") "
      ]
    },
    {
      "cell_type": "code",
      "execution_count": null,
      "metadata": {
        "id": "V0uExR9DSGw7"
      },
      "outputs": [],
      "source": [
        "#Corroboramos valores nulos\n",
        "valores_nulos=data3.isnull().sum()\n",
        "valores_nulos"
      ]
    },
    {
      "cell_type": "code",
      "execution_count": null,
      "metadata": {
        "id": "8PIaeNzySMUu"
      },
      "outputs": [],
      "source": [
        "#Sustituir valores nulos por valores no nulos hacia atrás backward fill\" (\"bfill\")\n",
        "data3[\"Provincia\"] =data3[\"Provincia\"].fillna(method=\"bfill\") "
      ]
    },
    {
      "cell_type": "code",
      "execution_count": null,
      "metadata": {
        "id": "bgsLUv4nSOlu"
      },
      "outputs": [],
      "source": [
        "#Corroboramos valores nulos\n",
        "valores_nulos=data3.isnull().sum()\n",
        "valores_nulos"
      ]
    },
    {
      "cell_type": "code",
      "execution_count": null,
      "metadata": {
        "id": "trJXIQb6SQhS"
      },
      "outputs": [],
      "source": [
        "#Sustituir valores nulos por valores no nulos hacia adelante forward fill\" (\"ffill\")\n",
        "#Filtro por columnas\n",
        "data3[\"Vendedor\"] =data3[\"Vendedor\"].fillna(method=\"ffill\") "
      ]
    },
    {
      "cell_type": "code",
      "execution_count": null,
      "metadata": {
        "id": "vVHUi50TSSC4"
      },
      "outputs": [],
      "source": [
        "#Corroboramos valores nulos\n",
        "valores_nulos=data3.isnull().sum()\n",
        "valores_nulos"
      ]
    },
    {
      "cell_type": "code",
      "execution_count": null,
      "metadata": {
        "colab": {
          "base_uri": "https://localhost:8080/"
        },
        "id": "cc0Fkd0pSUx2",
        "outputId": "38dcc567-60bf-4959-9baa-71163021eff2"
      },
      "outputs": [],
      "source": [
        "#Corroboramos valores nulos en todo el dataframe\n",
        "valores_nulos=data3.isnull().sum().sum()\n",
        "valores_nulos"
      ]
    },
    {
      "cell_type": "markdown",
      "metadata": {
        "id": "tCVIsa43Sa6H"
      },
      "source": [
        "**Método de Eliminación de valores nulos**"
      ]
    },
    {
      "cell_type": "code",
      "execution_count": null,
      "metadata": {
        "id": "be7xUcTLSbyO"
      },
      "outputs": [],
      "source": [
        "#Identificar valores nulos por columna\n",
        "valores_nulos=data2.isnull().sum()\n",
        "valores_nulos"
      ]
    },
    {
      "cell_type": "code",
      "execution_count": null,
      "metadata": {
        "id": "Okb0eRLHSezZ"
      },
      "outputs": [],
      "source": [
        "#Realizamos una copia del dataframe\n",
        "data4=data2.copy()\n",
        "data4"
      ]
    },
    {
      "cell_type": "code",
      "execution_count": null,
      "metadata": {
        "id": "qcfpheQTSgeJ"
      },
      "outputs": [],
      "source": [
        "#Eliminamos filas con nulos\n",
        "#No se agrega nada para eliminar filas y 1 para eliminar columnas\n",
        "data4= data2.dropna()\n",
        "data4"
      ]
    },
    {
      "cell_type": "code",
      "execution_count": null,
      "metadata": {
        "id": "9_X658RUSqyZ"
      },
      "outputs": [],
      "source": [
        "#Identificar valores nulos por columna\n",
        "valores_nulos=data4.isnull().sum()\n",
        "valores_nulos"
      ]
    },
    {
      "cell_type": "markdown",
      "metadata": {
        "id": "eE_KwtvDSvi0"
      },
      "source": [
        "**Comparamos DataFrame3(Sustitución) y Dataframe4(Eliminación)**"
      ]
    },
    {
      "cell_type": "code",
      "execution_count": null,
      "metadata": {
        "id": "VgWmvhieSwUr"
      },
      "outputs": [],
      "source": [
        "data3.info()"
      ]
    },
    {
      "cell_type": "code",
      "execution_count": null,
      "metadata": {
        "id": "xflAytJwSx8H"
      },
      "outputs": [],
      "source": [
        "data4.info()"
      ]
    },
    {
      "cell_type": "markdown",
      "metadata": {
        "id": "9PHnleetS3qA"
      },
      "source": [
        "**Convertir DataSet sin valores nulos a CSV**"
      ]
    },
    {
      "cell_type": "code",
      "execution_count": 73,
      "metadata": {
        "id": "aRLKT_8TS5__"
      },
      "outputs": [],
      "source": [
        "#Convertir DataFrame a CSV\n",
        "data.to_csv(\"Gastos y Costos limpio.csv\")"
      ]
    },
    {
      "cell_type": "code",
      "execution_count": null,
      "metadata": {
        "id": "3vDbAM6OTAuv"
      },
      "outputs": [],
      "source": [
        "#descargar archivo filtrado en csv\n",
        "#from google.colab import files \n",
        "  \n",
        "  \n",
        "#files.download(\"inmuebles_sin_nulos.csv\")"
      ]
    },
    {
      "cell_type": "code",
      "execution_count": null,
      "metadata": {},
      "outputs": [],
      "source": [
        "columnas_impares = df.iloc[:, 1::2]"
      ]
    }
  ],
  "metadata": {
    "colab": {
      "authorship_tag": "ABX9TyOp2JCHo4Vm4sW6su3j+TGS",
      "include_colab_link": true,
      "provenance": []
    },
    "kernelspec": {
      "display_name": "Python 3",
      "language": "python",
      "name": "python3"
    },
    "language_info": {
      "codemirror_mode": {
        "name": "ipython",
        "version": 3
      },
      "file_extension": ".py",
      "mimetype": "text/x-python",
      "name": "python",
      "nbconvert_exporter": "python",
      "pygments_lexer": "ipython3",
      "version": "3.12.1"
    }
  },
  "nbformat": 4,
  "nbformat_minor": 0
}
